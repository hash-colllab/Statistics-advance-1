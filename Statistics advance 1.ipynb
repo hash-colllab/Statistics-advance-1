{
 "cells": [
  {
   "cell_type": "markdown",
   "id": "aed96aaa-9b39-421b-8175-43cad0a59d71",
   "metadata": {},
   "source": [
    "Answer 1:-"
   ]
  },
  {
   "cell_type": "markdown",
   "id": "631dcdc7-d1bc-4307-a388-c71b90144f07",
   "metadata": {},
   "source": [
    "Probability density function is the function that represents the density of probability for a continuous random variable over the specified ranges."
   ]
  },
  {
   "cell_type": "markdown",
   "id": "f2dda9ea-cd75-4ba7-a89e-2525bcfd5b5c",
   "metadata": {},
   "source": [
    "Answer 2:-"
   ]
  },
  {
   "cell_type": "markdown",
   "id": "5f51f1a5-b70b-4bb1-a706-7c4367b6d24c",
   "metadata": {},
   "source": [
    "There are two types of probability distributions :\n",
    "1) Discrete Probability Distributions for discrete variables\n",
    "* Binomial Distribution\n",
    "* Bernoulli Distribution\n",
    "* Poissin Distribution\n",
    "2) \n",
    "Cumulative Probability Distribution for continuous variable\n",
    "* Normal Distribution\n",
    "* Uniform Distribution\n",
    "* Log Normal Distribution\n",
    "* Exponentioal Distributiones"
   ]
  },
  {
   "cell_type": "markdown",
   "id": "e111890c-5dd7-417f-8c97-515ddf80576e",
   "metadata": {},
   "source": [
    "Answer 3:-"
   ]
  },
  {
   "cell_type": "code",
   "execution_count": 6,
   "id": "5b8f2e41-20e4-40c2-a509-71ffbc03969a",
   "metadata": {},
   "outputs": [],
   "source": [
    "import math\n",
    "\n",
    "def normal_pdf(x,mean, std_dev):\n",
    "    variance = std_dev**2\n",
    "    exponent = -((x-mean)**2)/(2*variance)\n",
    "    coefficient = 1/math.sqrt(2*math.pi*variance)\n",
    "    pdf = coefficient*math.exp(exponent)\n",
    "    return pdf\n"
   ]
  },
  {
   "cell_type": "code",
   "execution_count": 7,
   "id": "09e04d86-9de3-49ce-a1fe-55182dcd8c81",
   "metadata": {},
   "outputs": [
    {
     "data": {
      "text/plain": [
       "0.0044318484119380075"
      ]
     },
     "execution_count": 7,
     "metadata": {},
     "output_type": "execute_result"
    }
   ],
   "source": [
    "normal_pdf(5,2,1)"
   ]
  },
  {
   "cell_type": "markdown",
   "id": "e1b6eb57-5d13-4b7d-a318-386988a990cc",
   "metadata": {},
   "source": [
    "Answer 4"
   ]
  },
  {
   "cell_type": "markdown",
   "id": "9547e4ee-ff3b-4d9b-86d6-c5dec48b2ba5",
   "metadata": {},
   "source": [
    "The binomial distribution has the following properties:\n",
    "\n",
    "Fixed Number of Trials (n): The binomial distribution requires a fixed number of independent trials, denoted by \"n.\" Each trial is assumed to be independent of the others, meaning the outcome of one trial does not affect the outcome of the others.\n",
    "\n",
    "Two Outcomes: Each trial can result in one of two possible outcomes: success or failure. The probability of success on any given trial is denoted by \"p,\" and the probability of failure is denoted by \"q,\" where q = 1 - p.\n",
    "\n",
    "Independent and Identically Distributed: The outcomes of each trial are independent and have the same probability of success (p) and failure (q).\n",
    "\n",
    "Discrete: The binomial distribution deals with discrete random variables, meaning that the number of successes must be a whole number.\n"
   ]
  },
  {
   "cell_type": "markdown",
   "id": "6646f224-48d9-473e-9711-0abb1b6e0a0b",
   "metadata": {},
   "source": [
    "Examples:\n",
    "1) Tossing a coin\n",
    "2) rolling a die"
   ]
  },
  {
   "cell_type": "markdown",
   "id": "ac8782f2-74c2-40a6-9b2d-3c4469da6481",
   "metadata": {},
   "source": [
    "Answer 5:-"
   ]
  },
  {
   "cell_type": "code",
   "execution_count": 10,
   "id": "a72871b3-dfd1-4c76-aa73-7b992f0827ba",
   "metadata": {},
   "outputs": [
    {
     "data": {
      "image/png": "[encoded data removed]",
      "text/plain": [
       "<Figure size 600x300 with 1 Axes>"
      ]
     },
     "metadata": {},
     "output_type": "display_data"
    }
   ],
   "source": [
    "import numpy as np\n",
    "import matplotlib.pyplot as plt\n",
    "\n",
    "n = 1000\n",
    "p = 0.4\n",
    "sample = np.random.binomial(n,p,size = 1000)\n",
    "\n",
    "plt.figure(figsize=(6,3))\n",
    "plt.hist(sample,bins='fd',density=True,edgecolor='black')\n",
    "plt.xlabel('Number of successes')\n",
    "plt.ylabel('Probability')\n",
    "plt.title('Binomial Distribution (n=1000, p=0.4)')\n",
    "plt.show()"
   ]
  },
  {
   "cell_type": "markdown",
   "id": "6d08a147-bd26-491b-ba1e-b7423db9fb09",
   "metadata": {},
   "source": [
    "Answer 6"
   ]
  },
  {
   "cell_type": "code",
   "execution_count": 12,
   "id": "256f631a-e57e-4c8e-a988-3ad8528db8a8",
   "metadata": {},
   "outputs": [
    {
     "name": "stdout",
     "output_type": "stream",
     "text": [
      "Poisson cdf for mean = 6 at x = 2 is 0.0024787521766663585\n",
      "poisson cdf using scipy.stats library for mean = 6 at x = 2 is 0.06196880441665898\n"
     ]
    }
   ],
   "source": [
    "import math\n",
    "\n",
    "def poisson_cdf(mean, point):\n",
    "    cdf = 0\n",
    "    for k in range(point + 1):\n",
    "        cdf = cdf + math.exp(-mean)*pow(mean,k) / math.factorial(k)\n",
    "        return cdf\n",
    "\n",
    "result = poisson_cdf(mean=6,point=2)\n",
    "print(f'Poisson cdf for mean = 6 at x = 2 is {result}')\n",
    "\n",
    "from scipy.stats import poisson\n",
    "print(f'poisson cdf using scipy.stats library for mean = 6 at x = 2 is {poisson.cdf(2,mu=6)}')"
   ]
  },
  {
   "cell_type": "markdown",
   "id": "5f39de43-220c-4ef7-91c3-e667b3159388",
   "metadata": {},
   "source": [
    "Answer 7:-"
   ]
  },
  {
   "cell_type": "markdown",
   "id": "fb8b901e-b70d-4af0-8f97-ab20e73f082d",
   "metadata": {},
   "source": [
    "The distributions share the following key difference: In a Binomial distribution, there is a fixed number of trials (e.g. flip a coin 3 times) In a Poisson distribution, there could be any number of events that occur during a certain time interval (e.g. how many customers will arrive at a store in a given hour?)"
   ]
  },
  {
   "cell_type": "markdown",
   "id": "6effb5b0-a5ea-4e3b-b95d-dd923a212996",
   "metadata": {},
   "source": [
    "Answer 8:-"
   ]
  },
  {
   "cell_type": "code",
   "execution_count": 13,
   "id": "801f1fde-cf4c-4da2-9df4-3a8e5de9e3ca",
   "metadata": {},
   "outputs": [
    {
     "name": "stdout",
     "output_type": "stream",
     "text": [
      "Poisson sample mean: 4.951\n",
      "Poisson sample variance: 4.956599\n"
     ]
    }
   ],
   "source": [
    "import numpy as np\n",
    "np.random.seed(4)\n",
    "samp = np.random.poisson(lam=5,size=1000)\n",
    "\n",
    "sample_mean = np.mean(samp)\n",
    "sample_variance = np.var(samp)\n",
    "\n",
    "print('Poisson sample mean:', sample_mean)\n",
    "print('Poisson sample variance:', sample_variance)"
   ]
  },
  {
   "cell_type": "markdown",
   "id": "72908ee6-c198-42dc-830b-296c571ed632",
   "metadata": {},
   "source": [
    "Answer 9:-"
   ]
  },
  {
   "cell_type": "markdown",
   "id": "3304ea24-7803-40b6-895c-9ac092f7beef",
   "metadata": {},
   "source": [
    "Binomial Distribution:\n",
    "In a binomial distribution, which models the number of successes in a fixed number of independent Bernoulli trials, the mean and variance are related as follows:\n",
    "Mean (μ) = n * p\n",
    "Variance (σ^2) = n * p * q\n",
    "Where:\n",
    "n is the number of trials (sample size).\n",
    "p is the probability of success in each trial.\n",
    "q = 1 - p is the probability of failure in each trial.\n",
    "\n",
    "Poisson Distribution:\r\n",
    "In a Poisson distribution, which models the number of events occurring in a fixed interval of time or space under certain conditions, the mean and variance are also related:\r\n",
    "\r\n",
    "Mean (μ) = λ\r\n",
    "Variance (σ^2) = λ\r\n",
    "Where:\r\n",
    "\r\n",
    "λ (lambda) is the average rate of events occurring in the fixed interval."
   ]
  },
  {
   "cell_type": "markdown",
   "id": "7d3fc634-f199-444a-a3e0-f66bf8da8d56",
   "metadata": {},
   "source": [
    "Answer 10:-"
   ]
  },
  {
   "cell_type": "code",
   "execution_count": null,
   "id": "9976aea8-2bd3-46c7-b506-f62a259693aa",
   "metadata": {},
   "outputs": [],
   "source": []
  }
 ],
 "metadata": {
  "kernelspec": {
   "display_name": "Python 3 (ipykernel)",
   "language": "python",
   "name": "python3"
  },
  "language_info": {
   "codemirror_mode": {
    "name": "ipython",
    "version": 3
   },
   "file_extension": ".py",
   "mimetype": "text/x-python",
   "name": "python",
   "nbconvert_exporter": "python",
   "pygments_lexer": "ipython3",
   "version": "3.12.4"
  }
 },
 "nbformat": 4,
 "nbformat_minor": 5
}
